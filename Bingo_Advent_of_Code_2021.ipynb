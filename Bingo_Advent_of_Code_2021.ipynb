{
 "cells": [
  {
   "cell_type": "markdown",
   "id": "e46eb9a1",
   "metadata": {},
   "source": [
    "# Advent of Code 2021 day 4\n",
    "Play Bingo with giant squid\n",
    "[Advent of Code 2021 day 4](https://adventofcode.com/2021/day/4)"
   ]
  },
  {
   "cell_type": "code",
   "execution_count": 58,
   "id": "a3fddab6",
   "metadata": {},
   "outputs": [],
   "source": [
    "import numpy as np\n",
    "import re\n",
    "\n",
    "class board():\n",
    "    def __init__(self,the_board):\n",
    "        self.nums = the_board\n",
    "        self.mark = np.zeros((5,5))\n",
    "        \n",
    "    def marked(self,called):\n",
    "        for i in range(5):\n",
    "            for j in range(5):\n",
    "                if int(self.nums[i,j]) == called:\n",
    "                    self.mark[i,j] = 1\n",
    "                    \n",
    "    def won(self):\n",
    "        for n in range(5):\n",
    "            if (np.sum(self.mark[n,:])==5 or np.sum(self.mark[:,n])==5):\n",
    "                return True\n",
    "        return False\n",
    "    \n",
    "    def score(self,called):\n",
    "        return int(called) * (np.sum((1-self.mark)*self.nums))\n",
    "\n",
    "with open(\"bingo.txt\") as f:\n",
    "    lines = [l.strip() for l in f]\n",
    "randoms = [int(n) for n in lines[0].split(',')]\n",
    "all_boards = []\n",
    "for i in range(100):\n",
    "    the_board = np.zeros((5,5))\n",
    "    for j in range(5):\n",
    "        row = lines[6*i+j+2]\n",
    "        row = re.sub(' +',' ',row) # Equivalent code: row = row.replace('  ',' ')\n",
    "        the_board[j,:] = [int(r) for r in row.split(' ')]\n",
    "    all_boards.append(board(the_board))\n",
    "def play1(randoms, all_boards):     \n",
    "    for called_rand in randoms:\n",
    "        for b in all_boards:\n",
    "            b.marked(called_rand)\n",
    "            if b.won():\n",
    "                return b.score(called_rand),called_rand,b.mark,b.nums\n",
    "def play2(randoms, all_boards):     \n",
    "    for called_rand in randoms:\n",
    "        for b in all_boards:\n",
    "            if not b.won():\n",
    "                b.marked(called_rand)\n",
    "                if b.won():\n",
    "                    score = b.score(called_rand)\n",
    "    return score"
   ]
  },
  {
   "cell_type": "markdown",
   "id": "5faddbcb",
   "metadata": {},
   "source": [
    "## Part 1"
   ]
  },
  {
   "cell_type": "code",
   "execution_count": 47,
   "id": "5dab132f",
   "metadata": {},
   "outputs": [
    {
     "data": {
      "text/plain": [
       "89001.0"
      ]
     },
     "execution_count": 47,
     "metadata": {},
     "output_type": "execute_result"
    }
   ],
   "source": [
    "score,called_rand, mark , num = play1(randoms, all_boards)\n",
    "score"
   ]
  },
  {
   "cell_type": "markdown",
   "id": "c1b463e0",
   "metadata": {},
   "source": [
    "## Part 2"
   ]
  },
  {
   "cell_type": "code",
   "execution_count": 59,
   "id": "61324651",
   "metadata": {},
   "outputs": [
    {
     "data": {
      "text/plain": [
       "7296.0"
      ]
     },
     "execution_count": 59,
     "metadata": {},
     "output_type": "execute_result"
    }
   ],
   "source": [
    "score = play2(randoms, all_boards)\n",
    "score"
   ]
  },
  {
   "cell_type": "code",
   "execution_count": null,
   "id": "7ad90cfb",
   "metadata": {},
   "outputs": [],
   "source": []
  }
 ],
 "metadata": {
  "kernelspec": {
   "display_name": "Python 3",
   "language": "python",
   "name": "python3"
  },
  "language_info": {
   "codemirror_mode": {
    "name": "ipython",
    "version": 3
   },
   "file_extension": ".py",
   "mimetype": "text/x-python",
   "name": "python",
   "nbconvert_exporter": "python",
   "pygments_lexer": "ipython3",
   "version": "3.7.3"
  }
 },
 "nbformat": 4,
 "nbformat_minor": 5
}
